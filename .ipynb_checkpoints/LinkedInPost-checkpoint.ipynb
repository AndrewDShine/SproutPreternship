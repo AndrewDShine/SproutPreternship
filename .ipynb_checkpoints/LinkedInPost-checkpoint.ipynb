{
 "cells": [
  {
   "cell_type": "code",
   "execution_count": 48,
   "metadata": {},
   "outputs": [],
   "source": [
    "from linkedin import linkedin\n",
    "\n",
    "def post_To_LinkedIn():\n",
    "    consumer_key = '78eopeauzfd1my'\n",
    "    consumer_secret = '8yZ6hunoNmJhCxmL'\n",
    "    return_url = 'https://www.linkedin.com/company/71840970/admin/'\n",
    "    \n",
    "    authentication = linkedin.LinkedInAuthentication(consumer_key, consumer_secret, \n",
    "                                                          return_url, linkedin.PERMISSIONS.enums.values())\n",
    "    \n",
    "    print(authentication.authorization_url)"
   ]
  },
  {
   "cell_type": "code",
   "execution_count": 50,
   "metadata": {},
   "outputs": [
    {
     "name": "stdout",
     "output_type": "stream",
     "text": [
      "https://www.linkedin.com/uas/oauth2/authorization?response_type=code&client_id=78eopeauzfd1my&scope=r_basicprofile%20r_emailaddress%20w_share%20rw_company_admin%20r_fullprofile%20r_contactinfo&state=d89b51cf170267e3f766da4ed5b55e9f&redirect_uri=https%3A//www.linkedin.com/company/71840970/admin/\n"
     ]
    }
   ],
   "source": [
    "post_To_LinkedIn()"
   ]
  },
  {
   "cell_type": "code",
   "execution_count": 51,
   "metadata": {},
   "outputs": [
    {
     "ename": "SyntaxError",
     "evalue": "invalid syntax (<ipython-input-51-519a76203d5e>, line 6)",
     "output_type": "error",
     "traceback": [
      "\u001b[0;36m  File \u001b[0;32m\"<ipython-input-51-519a76203d5e>\"\u001b[0;36m, line \u001b[0;32m6\u001b[0m\n\u001b[0;31m    'updateURL': 'https://www.linkedin.com/updates?discuss=&amp;scope=8219502&amp;stype=M&amp;topic=5705061301949063168&amp;type=U&amp;a=aovi'}\u001b[0m\n\u001b[0m               ^\u001b[0m\n\u001b[0;31mSyntaxError\u001b[0m\u001b[0;31m:\u001b[0m invalid syntax\n"
     ]
    }
   ],
   "source": [
    "# example \n",
    "\n",
    "application.submit_share('Posting from the API using JSON', 'A title for your share', None, \n",
    "                         'https://www.linkedin.com', 'https://d.pr/3OWS')\n",
    "{'updateKey': u'UNIU-8219502-5705061301949063168-SHARE'\n",
    " 'updateURL': 'https://www.linkedin.com/updates?discuss=&amp;scope=8219502&amp;stype=M&amp;topic=5705061301949063168&amp;type=U&amp;a=aovi'}"
   ]
  },
  {
   "cell_type": "code",
   "execution_count": null,
   "metadata": {},
   "outputs": [],
   "source": []
  },
  {
   "cell_type": "code",
   "execution_count": null,
   "metadata": {},
   "outputs": [],
   "source": []
  }
 ],
 "metadata": {
  "kernelspec": {
   "display_name": "Python 3",
   "language": "python",
   "name": "python3"
  },
  "language_info": {
   "codemirror_mode": {
    "name": "ipython",
    "version": 3
   },
   "file_extension": ".py",
   "mimetype": "text/x-python",
   "name": "python",
   "nbconvert_exporter": "python",
   "pygments_lexer": "ipython3",
   "version": "3.7.4"
  }
 },
 "nbformat": 4,
 "nbformat_minor": 2
}
