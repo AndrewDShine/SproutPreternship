{
 "cells": [
  {
   "cell_type": "code",
   "execution_count": 35,
   "metadata": {},
   "outputs": [
    {
     "name": "stdout",
     "output_type": "stream",
     "text": [
      "<__main__.Universal object at 0x00000248E007BCC8>\n",
      "<__main__.Universal object at 0x00000248E0058B48>\n",
      "<__main__.Universal object at 0x00000248E0089848>\n",
      "<__main__.Universal object at 0x00000248E0078E08>\n",
      "<__main__.Universal object at 0x00000248E007BE88>\n"
     ]
    }
   ],
   "source": [
    "from queue import PriorityQueue\n",
    "\n",
    "import Universal_Class\n",
    "#%run Universal_Class.ipynb\n",
    "\n",
    "q = PriorityQueue()\n",
    "\n",
    "\n",
    "#posts = []\n",
    "\n",
    "#q.put(4, \"hello\")\n",
    "#q.put(2, \"world\")\n",
    "#q.put(1, \"apple\")\n",
    "#q.put(5, \"orange\")\n",
    "#q.put(3, \"pear\")\n",
    "\n",
    "\n",
    "test1 = Universal(\"TEST 1\")\n",
    "test2 = Universal(\"TEST 2\")\n",
    "test3 = Universal(\"TEST 3\")\n",
    "test4 = Universal(\"TEST 4\")\n",
    "test5 = Universal(\"TEST 5\")\n",
    "\n",
    "q.put((3, test2))\n",
    "q.put((4, test1))\n",
    "q.put((2, test5))\n",
    "q.put((5, test4))\n",
    "q.put((1, test3))\n",
    "\n",
    "while not q.empty():\n",
    "    next_item = q.get()\n",
    "    print(next_item[1])\n",
    "    next_item[1].post_to_Twitter()"
   ]
  },
  {
   "cell_type": "code",
   "execution_count": null,
   "metadata": {},
   "outputs": [],
   "source": []
  },
  {
   "cell_type": "code",
   "execution_count": null,
   "metadata": {},
   "outputs": [],
   "source": []
  }
 ],
 "metadata": {
  "kernelspec": {
   "display_name": "Python 3",
   "language": "python",
   "name": "python3"
  },
  "language_info": {
   "codemirror_mode": {
    "name": "ipython",
    "version": 3
   },
   "file_extension": ".py",
   "mimetype": "text/x-python",
   "name": "python",
   "nbconvert_exporter": "python",
   "pygments_lexer": "ipython3",
   "version": "3.7.4"
  }
 },
 "nbformat": 4,
 "nbformat_minor": 2
}
