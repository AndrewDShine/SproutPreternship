{
 "cells": [
  {
   "cell_type": "code",
   "execution_count": 52,
   "metadata": {},
   "outputs": [],
   "source": [
    "from queue import PriorityQueue\n",
    "\n",
    "# Universal_Class must be saved as a .py in the same folder\n",
    "import Universal_Class\n",
    "\n",
    "# adds posts to queue based on priority\n",
    "def add_to_queue(q, posts, priorities):\n",
    "    for i in range(len(posts)):\n",
    "        q.put((priorities[i], posts[i]))\n",
    "    return q\n",
    "\n",
    "# posts to Twitter in order of priority queue\n",
    "def post(q):\n",
    "    while not q.empty():\n",
    "        next_item = q.get()\n",
    "        #print(next_item[1])\n",
    "        try:\n",
    "            next_item[1].post_to_Twitter()\n",
    "        except:\n",
    "            print(\"Error: You have already posted this message\")"
   ]
  },
  {
   "cell_type": "code",
   "execution_count": 53,
   "metadata": {},
   "outputs": [
    {
     "name": "stdout",
     "output_type": "stream",
     "text": [
      "Error: You have already posted this message\n",
      "Error: You have already posted this message\n",
      "Error: You have already posted this message\n",
      "Error: You have already posted this message\n",
      "Error: You have already posted this message\n"
     ]
    }
   ],
   "source": [
    "test1 = Universal(\"T 1\")\n",
    "test2 = Universal(\"T 2\")\n",
    "test3 = Universal(\"T 3\")\n",
    "test4 = Universal(\"T 4\")\n",
    "test5 = Universal(\"T 5\")\n",
    "\n",
    "\n",
    "posts = [test1, test2, test3, test4, test5]\n",
    "priorities = [4, 3, 5, 2, 1]\n",
    "\n",
    "\n",
    "q = PriorityQueue()\n",
    "q = add_to_queue(q, posts, priorities)\n",
    "post(q)"
   ]
  },
  {
   "cell_type": "code",
   "execution_count": null,
   "metadata": {},
   "outputs": [],
   "source": []
  }
 ],
 "metadata": {
  "kernelspec": {
   "display_name": "Python 3",
   "language": "python",
   "name": "python3"
  },
  "language_info": {
   "codemirror_mode": {
    "name": "ipython",
    "version": 3
   },
   "file_extension": ".py",
   "mimetype": "text/x-python",
   "name": "python",
   "nbconvert_exporter": "python",
   "pygments_lexer": "ipython3",
   "version": "3.7.4"
  }
 },
 "nbformat": 4,
 "nbformat_minor": 2
}
