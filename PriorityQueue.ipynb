{
 "cells": [
  {
   "cell_type": "code",
   "execution_count": 14,
   "metadata": {},
   "outputs": [],
   "source": [
    "from queue import PriorityQueue\n",
    "\n",
    "# Universal_Class must be saved as a .py in the same folder\n",
    "from Universal_Class import Universal\n",
    "\n",
    "# adds posts to queue based on priority\n",
    "def add_to_queue(q, posts, priorities):\n",
    "    for i in range(len(posts)):\n",
    "        q.put((priorities[i], posts[i]))\n",
    "    return q\n",
    "\n",
    "# posts to Twitter in order of priority queue\n",
    "def post(q):\n",
    "    while not q.empty():\n",
    "        next_item = q.get()\n",
    "        print(next_item)\n",
    "        #try:\n",
    "        next_item[1].post_to_Twitter()\n",
    "        #except:\n",
    "            #print(\"Error: You have already posted this message\")"
   ]
  },
  {
   "cell_type": "code",
   "execution_count": 15,
   "metadata": {},
   "outputs": [],
   "source": [
    "test1 = Universal(\"T 1\")\n",
    "#test2 = Universal(\"T 2\")\n",
    "#test3 = Universal(\"T 3\")\n",
    "#test4 = Universal(\"T 4\")\n",
    "#test5 = Universal(\"T 5\")\n",
    "\n",
    "\n",
    "posts = []\n",
    "priorities = []\n",
    "\n",
    "\n",
    "\n",
    "q = PriorityQueue()\n",
    "q = add_to_queue(q, posts, priorities)\n",
    "#post(q)"
   ]
  },
  {
   "cell_type": "code",
   "execution_count": 16,
   "metadata": {},
   "outputs": [
    {
     "name": "stdout",
     "output_type": "stream",
     "text": [
      "Enter tweet text: testing....\n",
      "Enter priority for tweet: 3\n",
      "Would you like to post another tweet? (y or n)n\n",
      "(3, <Universal_Class.Universal object at 0x0000010F860A2B08>)\n"
     ]
    }
   ],
   "source": [
    "#from ipywidgets import interact\n",
    "\n",
    "def get_user_input (q):\n",
    "    quit = False\n",
    "    while (not quit):\n",
    "        text = input(\"Enter tweet text: \")\n",
    "        priority = int(input(\"Enter priority for tweet: \"))\n",
    "        post = Universal(text)\n",
    "        q.put((priority, post))\n",
    "        done = input(\"Would you like to post another tweet? (y or n)\")\n",
    "        if (done == 'n'):\n",
    "            quit = True\n",
    "\n",
    "            \n",
    "get_user_input(q)\n",
    "post(q)\n",
    " \n",
    "#interact(get_user_input, q)"
   ]
  },
  {
   "cell_type": "code",
   "execution_count": null,
   "metadata": {},
   "outputs": [],
   "source": []
  },
  {
   "cell_type": "code",
   "execution_count": null,
   "metadata": {},
   "outputs": [],
   "source": []
  },
  {
   "cell_type": "code",
   "execution_count": null,
   "metadata": {},
   "outputs": [],
   "source": []
  }
 ],
 "metadata": {
  "kernelspec": {
   "display_name": "Python 3",
   "language": "python",
   "name": "python3"
  },
  "language_info": {
   "codemirror_mode": {
    "name": "ipython",
    "version": 3
   },
   "file_extension": ".py",
   "mimetype": "text/x-python",
   "name": "python",
   "nbconvert_exporter": "python",
   "pygments_lexer": "ipython3",
   "version": "3.7.4"
  }
 },
 "nbformat": 4,
 "nbformat_minor": 2
}
