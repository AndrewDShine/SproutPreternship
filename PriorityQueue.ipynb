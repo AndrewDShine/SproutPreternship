{
 "cells": [
  {
   "cell_type": "code",
   "execution_count": 42,
   "metadata": {},
   "outputs": [],
   "source": [
    "from queue import PriorityQueue\n",
    "\n",
    "# Universal_Class must be saved as a .py in the same folder\n",
    "from Universal_Class import Universal\n",
    "\n",
    "# adds posts to queue based on priority\n",
    "def add_to_queue(q, posts, priorities):\n",
    "    for i in range(len(posts)):\n",
    "        q.put((priorities[i], posts[i]))\n",
    "    return q\n",
    "\n",
    "# posts to Twitter in order of priority queue\n",
    "def post(q):\n",
    "    while not q.empty():\n",
    "        item = q.get()\n",
    "        #print(item)\n",
    "        try:\n",
    "            item[1].post_to_Twitter(item[2]) # get user input for this\n",
    "        except:\n",
    "            print(\"Error\")"
   ]
  },
  {
   "cell_type": "code",
   "execution_count": 43,
   "metadata": {
    "scrolled": true
   },
   "outputs": [
    {
     "name": "stdout",
     "output_type": "stream",
     "text": [
      "Enter tweet text: dsljld\n",
      "Enter priority for tweet: 5\n",
      "[5]\n",
      "Enter a user (0 or 1): 0\n",
      "Would you like to post another tweet? (y or n): y\n",
      "Enter tweet text: jklsfs\n",
      "Enter priority for tweet: 3\n",
      "[5, 3]\n",
      "Enter a user (0 or 1): 0\n",
      "Would you like to post another tweet? (y or n): y\n",
      "Enter tweet text: jkfls\n",
      "Enter priority for tweet: 3\n",
      "A different tweet has that priority. Enter a different priority.\n",
      "[5, 3]\n",
      "Enter priority for tweet: 6\n",
      "[5, 3, 6]\n",
      "Enter a user (0 or 1): 1\n",
      "Would you like to post another tweet? (y or n): n\n"
     ]
    }
   ],
   "source": [
    "from geopy.geocoders import Nominatim\n",
    "geolocator = Nominatim(user_agent=\"app_name\")\n",
    "\n",
    "def get_user_input (q):\n",
    "    priorities = []\n",
    "    quit = False\n",
    "    while (not quit):\n",
    "        text = input(\"Enter tweet text: \")\n",
    "        valid = False\n",
    "        while not valid:\n",
    "            priority = input(\"Enter priority for tweet: \")\n",
    "            try:\n",
    "                priority = int(priority)\n",
    "                if priority not in priorities:\n",
    "                    valid = True\n",
    "                    priorities.append(priority)\n",
    "                else:\n",
    "                    print(\"A different tweet has that priority. Enter a different priority.\")\n",
    "                print(priorities)\n",
    "            except:\n",
    "                print(\"Error: priority must be an integer\")\n",
    "        #location = input(\"Enter your location: \")\n",
    "        #location = geolocator.geocode(location)\n",
    "        #post = Universal(text, lat = location.latitude, long = location.longitude)\n",
    "        post = Universal(text)\n",
    "        valid = False\n",
    "        while not valid:\n",
    "            user = input(\"Enter a user (0 or 1): \")\n",
    "            try:\n",
    "                user = int(user)\n",
    "                if user == 0 or user == 1:\n",
    "                    valid = True\n",
    "                else:\n",
    "                    print(\"Enter 0 or 1\")\n",
    "            except:\n",
    "                print(\"Enter an integer (0 or 1)\")\n",
    "        q.put((priority, post, user))\n",
    "        done = input(\"Would you like to post another tweet? (y or n): \")\n",
    "        if (done == 'n'):\n",
    "            quit = True\n",
    "\n",
    "q = PriorityQueue()            \n",
    "get_user_input(q)\n",
    "post(q)"
   ]
  },
  {
   "cell_type": "code",
   "execution_count": null,
   "metadata": {},
   "outputs": [],
   "source": []
  },
  {
   "cell_type": "code",
   "execution_count": null,
   "metadata": {},
   "outputs": [],
   "source": []
  }
 ],
 "metadata": {
  "kernelspec": {
   "display_name": "Python 3",
   "language": "python",
   "name": "python3"
  },
  "language_info": {
   "codemirror_mode": {
    "name": "ipython",
    "version": 3
   },
   "file_extension": ".py",
   "mimetype": "text/x-python",
   "name": "python",
   "nbconvert_exporter": "python",
   "pygments_lexer": "ipython3",
   "version": "3.7.4"
  }
 },
 "nbformat": 4,
 "nbformat_minor": 2
}
