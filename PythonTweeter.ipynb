{
 "cells": [
  {
   "cell_type": "code",
   "execution_count": 3,
   "metadata": {},
   "outputs": [],
   "source": [
    "import tweepy\n",
    "from json import dumps\n",
    "\n",
    "# test comment\n",
    "\n",
    "consumer_key = ['eEn8jAiNupIU9xw2eL12auAAP','bLouERJhNJ68I12yAQtHDD0hf']\n",
    "consumer_secret_key = ['SbUFHQqVeu7MtGsWrrweqTWizYbvdJV6aEbK1zFKnStNswtFHu', 'iR2iyjQsuvJdlI7D1BVsaY8SYGxaUqamuILmmZb2YzKSYKzNKw']\n",
    "access_token = ['2935650300-KJP9rCX1t8WB94GB9ZamTFNJEED76GmqJPk6Xmk', '1326605654388338689-tWdrGvdKY0TrawIYJ1kzySlADqs0PF']\n",
    "access_token_secret = ['NCy7PT0CZmAnlkjXO5iFUkCnBDZKkgjmh1eXAX4ZpcX6n', 'qCkn0hQQHcT3eJDHiiXACWjaTDl3HaohNnIeRHnx6g9cW']\n",
    "\n",
    "\n",
    "def tweepyType(i):\n",
    "    auth = tweepy.OAuthHandler(consumer_key[i],consumer_secret_key[i])\n",
    "    auth.set_access_token(access_token[i],access_token_secret[i])\n",
    "    api = tweepy.API(auth)\n",
    "    tweet_text = input('enter the tweet: ')\n",
    "    \n",
    "    status = api.update_status(status = tweet_text)\n",
    "    \n",
    "    \n",
    "#tweepyType(0)"
   ]
  },
  {
   "cell_type": "code",
   "execution_count": null,
   "metadata": {},
   "outputs": [],
   "source": []
  }
 ],
 "metadata": {
  "kernelspec": {
   "display_name": "Python 3",
   "language": "python",
   "name": "python3"
  },
  "language_info": {
   "codemirror_mode": {
    "name": "ipython",
    "version": 3
   },
   "file_extension": ".py",
   "mimetype": "text/x-python",
   "name": "python",
   "nbconvert_exporter": "python",
   "pygments_lexer": "ipython3",
   "version": "3.7.4"
  }
 },
 "nbformat": 4,
 "nbformat_minor": 2
}
