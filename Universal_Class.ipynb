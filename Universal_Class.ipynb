{
 "cells": [
  {
   "cell_type": "code",
   "execution_count": 1,
   "metadata": {},
   "outputs": [],
   "source": [
    "class Universal:\n",
    "    # common fields\n",
    "    text = \"\"\n",
    "    content = \"\"\n",
    "    \n",
    "    # fields specific to Twitter\n",
    "    in_reply_to_status_id = \"\"\n",
    "    auto_populate_reply_metadata = \"\"\n",
    "    exclude_reply_user_ids = \"\"\n",
    "    media_ids = \"\"\n",
    "    possibly_sensitive = \"\"\n",
    "    latitude = \"\"\n",
    "    longitude = \"\"\n",
    "    place_id = \"\"\n",
    "    display_coordinates = \"\"\n",
    "    trim_user = \"\"\n",
    "    enable_dmcommands = \"\"\n",
    "    fail_dmcommands = \"\"\n",
    "    card_uri = \"\"\n",
    "    \n",
    "    # constructor\n",
    "    def __init__(self, tweet_text, reply = None, metadata = True, exclude_reply = True, \n",
    "                 attachment = None, media = None, sensitivity = False, lat = 27.2046, \n",
    "                 long = 77.4977, place = None, display = False, trim = False, \n",
    "                 enable = False, fail = True, card = None):\n",
    "        self.text = tweet_text\n",
    "        self.in_reply_to_status_id = reply\n",
    "        self.auto_populate_reply_metadata = metadata\n",
    "        self.exclude_reply_user_ids = exclude_reply\n",
    "        self.content = attachment\n",
    "        self.media_ids = media\n",
    "        self.possibly_sensitive = sensitivity\n",
    "        self.latitude = lat\n",
    "        self.longitude = long\n",
    "        self.place_id = place\n",
    "        self.display_coordinates = display\n",
    "        self.trim_user = trim\n",
    "        self.enable_dmcommands = enable\n",
    "        self.fail_dmcommands = fail\n",
    "        self.card_uri = card"
   ]
  },
  {
   "cell_type": "code",
   "execution_count": 2,
   "metadata": {},
   "outputs": [],
   "source": [
    "test = Universal(\"hello\")"
   ]
  },
  {
   "cell_type": "code",
   "execution_count": null,
   "metadata": {},
   "outputs": [],
   "source": []
  }
 ],
 "metadata": {
  "kernelspec": {
   "display_name": "Python 3",
   "language": "python",
   "name": "python3"
  },
  "language_info": {
   "codemirror_mode": {
    "name": "ipython",
    "version": 3
   },
   "file_extension": ".py",
   "mimetype": "text/x-python",
   "name": "python",
   "nbconvert_exporter": "python",
   "pygments_lexer": "ipython3",
   "version": "3.7.4"
  }
 },
 "nbformat": 4,
 "nbformat_minor": 2
}
