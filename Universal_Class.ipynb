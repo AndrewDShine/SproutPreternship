{
 "cells": [
  {
   "cell_type": "code",
   "execution_count": null,
   "metadata": {},
   "outputs": [],
   "source": [
    "class Universal:\n",
    "    # common fields\n",
    "    text = \"\"\n",
    "    content = \"\"\n",
    "    \n",
    "    # fields specific to Twitter\n",
    "    in_reply_to_status_id = \"\"\n",
    "    auto_populate_reply_metadata = \"\"\n",
    "    exclude_reply_user_ids = \"\"\n",
    "    media_ids = \"\"\n",
    "    possibly_sensitive = \"\"\n",
    "    lat = \"\"\n",
    "    longitude = \"\"\n",
    "    place_id = \"\"\n",
    "    display_coordinates = \"\"\n",
    "    trim_user = \"\"\n",
    "    enable_dmcommands = \"\"\n",
    "    fail_dmcommands = \"\"\n",
    "    card_uri = \"\"\n",
    "    \n",
    "    # constructor\n",
    "    def __init__(self):\n",
    "        "
   ]
  }
 ],
 "metadata": {
  "kernelspec": {
   "display_name": "Python 3",
   "language": "python",
   "name": "python3"
  },
  "language_info": {
   "codemirror_mode": {
    "name": "ipython",
    "version": 3
   },
   "file_extension": ".py",
   "mimetype": "text/x-python",
   "name": "python",
   "nbconvert_exporter": "python",
   "pygments_lexer": "ipython3",
   "version": "3.7.4"
  }
 },
 "nbformat": 4,
 "nbformat_minor": 2
}
