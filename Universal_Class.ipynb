{
 "cells": [
  {
   "cell_type": "code",
   "execution_count": 14,
   "metadata": {},
   "outputs": [],
   "source": [
    "import tweepy\n",
    "from IPython.html.widgets.interaction import interact\n",
    "from ipywidgets import interact\n",
    "\n",
    "class Universal:\n",
    "    \n",
    "    # fields specific to posting on Twitter\n",
    "    status = \"\"\n",
    "    in_reply_to_status_id = \"\"\n",
    "    auto_populate_reply_metadata = \"\"\n",
    "    exclude_reply_user_ids = \"\"\n",
    "    attachment_url = \"\"\n",
    "    media_ids = \"\"\n",
    "    possibly_sensitive = \"\"\n",
    "    place_id = \"\"\n",
    "    latitude = \"\"\n",
    "    longitude = \"\"\n",
    "    display_coordinates = \"\"\n",
    "    trim_user = \"\"\n",
    "    enable_dmcommands = \"\"\n",
    "    fail_dmcommands = \"\"\n",
    "    card_uri = \"\"\n",
    "    \n",
    "    # constructor for Twitter\n",
    "    # as of now, user sends in the text for the tweet and can still change any of the other parameters\n",
    "    # however, each additional parameter already has a default value as seen below\n",
    "    def __init__(self, tweet_text = None, reply = None, metadata = True, exclude_reply = True, \n",
    "                 attachment = None, media = None, sensitivity = False, lat = 27.2046, \n",
    "                 long = 77.4977, place = None, display = True, trim = False, \n",
    "                 enable = False, fail = True, card = None):\n",
    "        self.text = tweet_text\n",
    "        self.in_reply_to_status_id = reply\n",
    "        self.auto_populate_reply_metadata = metadata\n",
    "        self.exclude_reply_user_ids = exclude_reply\n",
    "        self.content = attachment\n",
    "        self.media_ids = media\n",
    "        self.possibly_sensitive = sensitivity\n",
    "        self.latitude = lat\n",
    "        self.longitude = long\n",
    "        self.place_id = place\n",
    "        self.display_coordinates = display\n",
    "        self.trim_user = trim\n",
    "        self.enable_dmcommands = enable\n",
    "        self.fail_dmcommands = fail\n",
    "        self.card_uri = card\n",
    "    \n",
    "    def interactive_Tweet(self, tweet_text, reply, metadata, \n",
    "                 attachment, media, sensitivity, lat, \n",
    "                 long, place, display, trim, \n",
    "                 enable, fail): \n",
    "        self.text = tweet_text\n",
    "        self.in_reply_to_status_id = reply\n",
    "        self.auto_populate_reply_metadata = metadata\n",
    "        self.content = attachment\n",
    "        self.media_ids = media\n",
    "        self.possibly_sensitive = sensitivity\n",
    "        self.latitude = lat\n",
    "        self.longitude = long\n",
    "        self.place_id = place\n",
    "        self.display_coordinates = display\n",
    "        self.trim_user = trim\n",
    "        self.enable_dmcommands = enable\n",
    "        self.fail_dmcommands = fail\n",
    "        \n",
    "    def interact(self): \n",
    "        interact(self.interactive_Tweet, tweet_text = \"Enter tweet text here\", reply = \"Enter usernames here or leave blank\", \n",
    "                metadata = False, attachment = \"Enter Twitter url here or leave blank\", media = \"Enter media ids here or leave blank\", \n",
    "                sensitivity = False, lat = \"Enter coordinate for latitude\", long = \"Enter coordinate for longitude\", \n",
    "                place = \"Enter place id (number) or leave blank\", display = True, trim = False, \n",
    "                enable = False, fail = True)\n",
    "        \n",
    "    # this function is used to interact with the Twitter API and post a tweet\n",
    "    def post_to_Twitter(self):\n",
    "        # Twitter login credentials needed for user authentication\n",
    "        consumer_key = ['eEn8jAiNupIU9xw2eL12auAAP','bLouERJhNJ68I12yAQtHDD0hf']\n",
    "        consumer_secret_key = ['SbUFHQqVeu7MtGsWrrweqTWizYbvdJV6aEbK1zFKnStNswtFHu', 'iR2iyjQsuvJdlI7D1BVsaY8SYGxaUqamuILmmZb2YzKSYKzNKw']\n",
    "        access_token = ['2935650300-KJP9rCX1t8WB94GB9ZamTFNJEED76GmqJPk6Xmk', '1326605654388338689-T5ixwBNNbEfdsZUs5a6d2xV9wqF4TJ']\n",
    "        access_token_secret = ['NCy7PT0CZmAnlkjXO5iFUkCnBDZKkgjmh1eXAX4ZpcX6n', 'RT6imWNvxoySMoDarnozUgmDcwEzLSzcp1yNCUtgzv8t1']\n",
    "    \n",
    "        # OAuth is taken care of in these three lines of code\n",
    "        # the access token from above is set for authentication, allowing the user to interact with the API\n",
    "        auth = tweepy.OAuthHandler(consumer_key, consumer_secret_key)\n",
    "        auth.set_access_token(access_token, access_token_secret)\n",
    "        api = tweepy.API(auth)\n",
    "    \n",
    "        # this line actually posts the tweet to Twitter\n",
    "        status = api.update_status(status = self.text)"
   ]
  },
  {
   "cell_type": "code",
   "execution_count": 18,
   "metadata": {},
   "outputs": [
    {
     "data": {
      "application/vnd.jupyter.widget-view+json": {
       "model_id": "b4799af9a28245c68ee1ffebf79538a5",
       "version_major": 2,
       "version_minor": 0
      },
      "text/plain": [
       "interactive(children=(Text(value='Enter tweet text here', description='tweet_text'), Text(value='Enter usernam…"
      ]
     },
     "metadata": {},
     "output_type": "display_data"
    }
   ],
   "source": [
    "# calling Twitter constructor to create Universal object\n",
    "test = Universal()\n",
    "test.interact()"
   ]
  },
  {
   "cell_type": "code",
   "execution_count": 20,
   "metadata": {},
   "outputs": [],
   "source": [
    "# post to Twitter\n",
    "test.post_to_Twitter()"
   ]
  },
  {
   "cell_type": "code",
   "execution_count": null,
   "metadata": {},
   "outputs": [],
   "source": []
  }
 ],
 "metadata": {
  "kernelspec": {
   "display_name": "Python 3",
   "language": "python",
   "name": "python3"
  },
  "language_info": {
   "codemirror_mode": {
    "name": "ipython",
    "version": 3
   },
   "file_extension": ".py",
   "mimetype": "text/x-python",
   "name": "python",
   "nbconvert_exporter": "python",
   "pygments_lexer": "ipython3",
   "version": "3.7.4"
  }
 },
 "nbformat": 4,
 "nbformat_minor": 2
}
