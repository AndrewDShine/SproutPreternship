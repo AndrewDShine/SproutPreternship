{
 "cells": [
  {
   "cell_type": "markdown",
   "metadata": {},
   "source": [
    "# Interactive Tweet\n",
    "* The first cell creates the Universal object and launches the interactive shell for the user to alter the inputs\n",
    "* Run the first cell for all of the attributes to be listed\n",
    "\n",
    "* The second cell actually posts the Tweet to Twitter after all of the fields / attributes are set the way the user wants them to be\n",
    "* The parameter in the post_To_Twitter function is an integer corresponding to the account that the user wants to post to\n",
    "* Right now, '0' corresponds to posting on Ashley's personal Twitter account (ashleyyeung26) and '1' corresponds to posting on our test account (test18734847)"
   ]
  },
  {
   "cell_type": "code",
   "execution_count": 4,
   "metadata": {},
   "outputs": [
    {
     "data": {
      "application/vnd.jupyter.widget-view+json": {
       "model_id": "8ee1190bf173435a9d15d7da41c20f82",
       "version_major": 2,
       "version_minor": 0
      },
      "text/plain": [
       "interactive(children=(Text(value='Enter tweet text here', description='tweet_text'), Text(value='Enter usernam…"
      ]
     },
     "metadata": {},
     "output_type": "display_data"
    }
   ],
   "source": [
    "# Universal_Class must be saved as a .py in the same folder\n",
    "from Universal_Class import Universal\n",
    "\n",
    "# calling Twitter constructor to create Universal object\n",
    "interactive = Universal()\n",
    "interactive.interact()"
   ]
  },
  {
   "cell_type": "code",
   "execution_count": 5,
   "metadata": {},
   "outputs": [],
   "source": [
    "# post to Twitter\n",
    "interactive.post_to_Twitter(0)"
   ]
  },
  {
   "cell_type": "markdown",
   "metadata": {},
   "source": [
    "# Posting Multiple Tweets in a Specified Order\n",
    "* This next cell utilizes our priority queue to post multiple Tweets in a specified order\n",
    "* This is done using user input for the Tweet text\n",
    "* The user needs to enter Tweet text, the priority number (integer), and either a 0 or 1 to specify the account to be posted to \n",
    "* Note: the user has the ability to post separate Tweets to both accounts"
   ]
  },
  {
   "cell_type": "code",
   "execution_count": 6,
   "metadata": {},
   "outputs": [
    {
     "name": "stdout",
     "output_type": "stream",
     "text": [
      "Enter tweet text: test2\n",
      "Enter priority for tweet: 8\n",
      "Enter a user (0 or 1): 1\n",
      "Would you like to post another tweet? (y or n): y\n",
      "Enter tweet text: test6\n",
      "Enter priority for tweet: 4\n",
      "Enter a user (0 or 1): 0\n",
      "Would you like to post another tweet? (y or n): n\n"
     ]
    }
   ],
   "source": [
    "# Priority_Queue must be saved as a .py in the same folder\n",
    "from queue import PriorityQueue\n",
    "import Priority_Queue\n",
    "\n",
    "# create priority queue for posts\n",
    "q = PriorityQueue()            \n",
    "\n",
    "# get user input for \n",
    "Priority_Queue.get_user_input(q)\n",
    "\n",
    "# post tweets in priority queue\n",
    "Priority_Queue.post(q)"
   ]
  }
 ],
 "metadata": {
  "kernelspec": {
   "display_name": "Python 3",
   "language": "python",
   "name": "python3"
  },
  "language_info": {
   "codemirror_mode": {
    "name": "ipython",
    "version": 3
   },
   "file_extension": ".py",
   "mimetype": "text/x-python",
   "name": "python",
   "nbconvert_exporter": "python",
   "pygments_lexer": "ipython3",
   "version": "3.7.4"
  }
 },
 "nbformat": 4,
 "nbformat_minor": 2
}
