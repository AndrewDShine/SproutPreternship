{
 "cells": [
  {
   "cell_type": "code",
   "execution_count": 4,
   "metadata": {},
   "outputs": [
    {
     "data": {
      "application/vnd.jupyter.widget-view+json": {
       "model_id": "8ee1190bf173435a9d15d7da41c20f82",
       "version_major": 2,
       "version_minor": 0
      },
      "text/plain": [
       "interactive(children=(Text(value='Enter tweet text here', description='tweet_text'), Text(value='Enter usernam…"
      ]
     },
     "metadata": {},
     "output_type": "display_data"
    }
   ],
   "source": [
    "# Universal_Class must be saved as a .py in the same folder\n",
    "from Universal_Class import Universal\n",
    "\n",
    "# calling Twitter constructor to create Universal object\n",
    "interactive = Universal()\n",
    "interactive.interact()"
   ]
  },
  {
   "cell_type": "code",
   "execution_count": 5,
   "metadata": {},
   "outputs": [],
   "source": [
    "# post to Twitter\n",
    "interactive.post_to_Twitter(0)"
   ]
  },
  {
   "cell_type": "code",
   "execution_count": 6,
   "metadata": {},
   "outputs": [
    {
     "name": "stdout",
     "output_type": "stream",
     "text": [
      "Enter tweet text: test2\n",
      "Enter priority for tweet: 8\n",
      "Enter a user (0 or 1): 1\n",
      "Would you like to post another tweet? (y or n): y\n",
      "Enter tweet text: test6\n",
      "Enter priority for tweet: 4\n",
      "Enter a user (0 or 1): 0\n",
      "Would you like to post another tweet? (y or n): n\n"
     ]
    }
   ],
   "source": [
    "# Priority_Queue must be saved as a .py in the same folder\n",
    "from queue import PriorityQueue\n",
    "import Priority_Queue\n",
    "\n",
    "# create priority queue for posts\n",
    "q = PriorityQueue()            \n",
    "\n",
    "# get user input for \n",
    "Priority_Queue.get_user_input(q)\n",
    "\n",
    "# post tweets in priority queue\n",
    "Priority_Queue.post(q)"
   ]
  }
 ],
 "metadata": {
  "kernelspec": {
   "display_name": "Python 3",
   "language": "python",
   "name": "python3"
  },
  "language_info": {
   "codemirror_mode": {
    "name": "ipython",
    "version": 3
   },
   "file_extension": ".py",
   "mimetype": "text/x-python",
   "name": "python",
   "nbconvert_exporter": "python",
   "pygments_lexer": "ipython3",
   "version": "3.7.4"
  }
 },
 "nbformat": 4,
 "nbformat_minor": 2
}
