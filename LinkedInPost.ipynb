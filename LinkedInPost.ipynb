{
 "cells": [
  {
   "cell_type": "markdown",
   "metadata": {},
   "source": [
    "# HTTP request to get LinkedIn access token\n",
    "https://www.linkedin.com/oauth/v2/authorization?response_type=code&client_id=78eopeauzfd1my&redirect_uri=https://docs.microsoft.com/en-us/linkedin/shared/authentication/client-credentials-flow&scope=r_liteprofile&state=aRandomString\n",
    "        \n",
    "# Returned URL with code to get access token\n",
    "https://docs.microsoft.com/en-us/linkedin/shared/authentication/client-credentials-flow?code=AQRc0pgDt8Af99wiMGmI-_SB4kvtc7sG2Q-HNu4vc2wQ9jBLxKFrNc18i361L5Wjsk4VDe6QSgVIJNKsbCeNIS9B8iTuSrJgtrxKEIu-deTyWOXVwKzzH2nr3v8Ql7HFrzJ6Iu7Tu0YeH0ADardJ--RQMxeMo03NdAUT_c-bbgauI3BHzl0a7GxC3_Upsw&state=aRandomString"
   ]
  },
  {
   "cell_type": "code",
   "execution_count": null,
   "metadata": {},
   "outputs": [],
   "source": [
    "pip install python3-linkedin "
   ]
  },
  {
   "cell_type": "code",
   "execution_count": 16,
   "metadata": {},
   "outputs": [
    {
     "name": "stdout",
     "output_type": "stream",
     "text": [
      "Access Token: AQVj7APKloZ1BBPC0yZQ1Yei3Ow1i3v6pYSVfbk__QE6HKoSk1psnnm7wkuVi-39hRFBjlElSkNHUOWMZ8_RaNAmY_YTVQnfJiPWkqxR9FNAbVQoOyyRofjcv4l8ULhZ9_lMCmIM2c1rnxz5uLfHF5LmXgBT9_hH7WKA1M3qSChOOI4BAo7sMxNxIgutwKxLaMXlQef0dIDXbOBnC7xlv6J_X6PFtB9hqmdCNDkwrqYsSyX1WudmRYR7zwDkXW341aMBYuf141gQIa35ManPCt9mxZfD8EmssE6J3HMZj68uXh0LvqQazpOjlCweyMf-2Irikyrfu--7mpUc8rwkpmmXp-Kuyg\n",
      "Expires in (seconds): 5183999\n"
     ]
    }
   ],
   "source": [
    "from linkedin import linkedin\n",
    "\n",
    "# define application key and secret\n",
    "APPLICATON_KEY    = '78eopeauzfd1my'\n",
    "APPLICATON_SECRET = '8yZ6hunoNmJhCxmL'\n",
    "\n",
    "# define return URL\n",
    "RETURN_URL = 'https://docs.microsoft.com/en-us/linkedin/shared/authentication/client-credentials-flow'\n",
    "\n",
    "# create authentication object\n",
    "authentication = linkedin.LinkedInAuthentication(\n",
    "                    APPLICATON_KEY,\n",
    "                    APPLICATON_SECRET,\n",
    "                    RETURN_URL,\n",
    "                    linkedin.PERMISSIONS.enums.values()\n",
    "                )\n",
    "\n",
    "# using authorization code from HTTP request, get the access token (result)\n",
    "authentication.authorization_code = 'AQRc0pgDt8Af99wiMGmI-_SB4kvtc7sG2Q-HNu4vc2wQ9jBLxKFrNc18i361L5Wjsk4VDe6QSgVIJNKsbCeNIS9B8iTuSrJgtrxKEIu-deTyWOXVwKzzH2nr3v8Ql7HFrzJ6Iu7Tu0YeH0ADardJ--RQMxeMo03NdAUT_c-bbgauI3BHzl0a7GxC3_Upsw'\n",
    "result = authentication.get_access_token()\n",
    "\n",
    "# print out the access token and its time of expiration -- one month from now\n",
    "print (\"Access Token:\", result.access_token)\n",
    "print (\"Expires in (seconds):\", result.expires_in)"
   ]
  },
  {
   "cell_type": "code",
   "execution_count": null,
   "metadata": {},
   "outputs": [],
   "source": [
    "from linkedin import linkedin\n",
    "\n",
    "# function to share on LinkedIn\n",
    "def post_To_LinkedIn():\n",
    "    \n",
    "    # define the application with the user access token\n",
    "    application = linkedin.LinkedInApplication(token='AQVj7APKloZ1BBPC0yZQ1Yei3Ow1i3v6pYSVfbk__QE6HKoSk1psnnm7wkuVi-39hRFBjlElSkNHUOWMZ8_RaNAmY_YTVQnfJiPWkqxR9FNAbVQoOyyRofjcv4l8ULhZ9_lMCmIM2c1rnxz5uLfHF5LmXgBT9_hH7WKA1M3qSChOOI4BAo7sMxNxIgutwKxLaMXlQef0dIDXbOBnC7xlv6J_X6PFtB9hqmdCNDkwrqYsSyX1WudmRYR7zwDkXW341aMBYuf141gQIa35ManPCt9mxZfD8EmssE6J3HMZj68uXh0LvqQazpOjlCweyMf-2Irikyrfu--7mpUc8rwkpmmXp-Kuyg')\n",
    "    \n",
    "    #application.submit_share(\"Test\")\n",
    "    application.submit_share('Posting from Jupyter Notebooks', 'Test 1', None, 'https://www.linkedin.com', 'https://docs.microsoft.com/en-us/linkedin/shared/authentication/client-credentials-flow')\n",
    "    #application.submit_share()"
   ]
  },
  {
   "cell_type": "code",
   "execution_count": null,
   "metadata": {},
   "outputs": [],
   "source": [
    "post_To_LinkedIn()"
   ]
  },
  {
   "cell_type": "code",
   "execution_count": null,
   "metadata": {},
   "outputs": [],
   "source": []
  },
  {
   "cell_type": "code",
   "execution_count": null,
   "metadata": {},
   "outputs": [],
   "source": []
  },
  {
   "cell_type": "code",
   "execution_count": null,
   "metadata": {},
   "outputs": [],
   "source": []
  }
 ],
 "metadata": {
  "kernelspec": {
   "display_name": "Python 3",
   "language": "python",
   "name": "python3"
  },
  "language_info": {
   "codemirror_mode": {
    "name": "ipython",
    "version": 3
   },
   "file_extension": ".py",
   "mimetype": "text/x-python",
   "name": "python",
   "nbconvert_exporter": "python",
   "pygments_lexer": "ipython3",
   "version": "3.7.4"
  }
 },
 "nbformat": 4,
 "nbformat_minor": 2
}
