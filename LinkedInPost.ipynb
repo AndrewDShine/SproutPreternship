{
 "cells": [
  {
   "cell_type": "code",
   "execution_count": 45,
   "metadata": {},
   "outputs": [],
   "source": [
    "from linkedin import linkedin\n",
    "\n",
    "def post_To_LinkedIn():\n",
    "    consumer_key = '78eopeauzfd1my'\n",
    "    consumer_secret = '8yZ6hunoNmJhCxmL'\n",
    "    return_url = 'https://www.linkedin.com/company/71840970/admin/'\n",
    "    \n",
    "    authentication = linkedin.LinkedInAuthentication(consumer_key, consumer_secret, \n",
    "                                                          return_url, linkedin.PERMISSIONS.enums.values())\n",
    "    \n",
    "    print(authentication.authorization_url)"
   ]
  },
  {
   "cell_type": "code",
   "execution_count": 46,
   "metadata": {},
   "outputs": [
    {
     "name": "stdout",
     "output_type": "stream",
     "text": [
      "https://www.linkedin.com/uas/oauth2/authorization?response_type=code&client_id=78eopeauzfd1my&scope=r_basicprofile%20r_emailaddress%20w_share%20rw_company_admin%20r_fullprofile%20r_contactinfo&state=2418432bedcb2f2af2dba0491d952b1e&redirect_uri=https%3A//www.linkedin.com/company/71840970/admin/\n"
     ]
    }
   ],
   "source": [
    "post_To_LinkedIn()"
   ]
  },
  {
   "cell_type": "code",
   "execution_count": null,
   "metadata": {},
   "outputs": [],
   "source": [
    "authentication.authorization_code = '4294'\n",
    "result = authentication.get_access_token()\n",
    "\n",
    "print (\"Access Token:\", result.access_token)\n",
    "print (\"Expires in (seconds):\", result.expires_in)"
   ]
  },
  {
   "cell_type": "code",
   "execution_count": 39,
   "metadata": {},
   "outputs": [
    {
     "ename": "NameError",
     "evalue": "name 'http_api' is not defined",
     "output_type": "error",
     "traceback": [
      "\u001b[0;31m---------------------------------------------------------------------------\u001b[0m",
      "\u001b[0;31mNameError\u001b[0m                                 Traceback (most recent call last)",
      "\u001b[0;32m<ipython-input-39-4160408fc902>\u001b[0m in \u001b[0;36m<module>\u001b[0;34m\u001b[0m\n\u001b[0;32m----> 1\u001b[0;31m \u001b[0mhttp_api\u001b[0m\u001b[0;34m.\u001b[0m\u001b[0mpy\u001b[0m\u001b[0;34m\u001b[0m\u001b[0;34m\u001b[0m\u001b[0m\n\u001b[0m",
      "\u001b[0;31mNameError\u001b[0m: name 'http_api' is not defined"
     ]
    }
   ],
   "source": [
    "http_api.py"
   ]
  },
  {
   "cell_type": "code",
   "execution_count": null,
   "metadata": {},
   "outputs": [],
   "source": []
  }
 ],
 "metadata": {
  "kernelspec": {
   "display_name": "Python 3",
   "language": "python",
   "name": "python3"
  },
  "language_info": {
   "codemirror_mode": {
    "name": "ipython",
    "version": 3
   },
   "file_extension": ".py",
   "mimetype": "text/x-python",
   "name": "python",
   "nbconvert_exporter": "python",
   "pygments_lexer": "ipython3",
   "version": "3.7.4"
  }
 },
 "nbformat": 4,
 "nbformat_minor": 2
}
