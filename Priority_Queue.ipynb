{
 "cells": [
  {
   "cell_type": "code",
   "execution_count": 1,
   "metadata": {},
   "outputs": [
    {
     "name": "stderr",
     "output_type": "stream",
     "text": [
      "C:\\Users\\Lauren Korbel\\Anaconda3\\lib\\site-packages\\IPython\\html.py:14: ShimWarning: The `IPython.html` package has been deprecated since IPython 4.0. You should import from `notebook` instead. `IPython.html.widgets` has moved to `ipywidgets`.\n",
      "  \"`IPython.html.widgets` has moved to `ipywidgets`.\", ShimWarning)\n"
     ]
    }
   ],
   "source": [
    "from queue import PriorityQueue\n",
    "\n",
    "# Universal_Class must be saved as a .py in the same folder\n",
    "from Universal_Class import Universal\n",
    "\n",
    "# posts to Twitter in order of priority queue\n",
    "def post(q):\n",
    "    while not q.empty():\n",
    "        item = q.get()\n",
    "        try:\n",
    "            # post is second element in item list and user is third\n",
    "            item[1].post_to_Twitter(item[2]) \n",
    "        except:\n",
    "            # will cause error if same message already tweeted\n",
    "            print(\"Error\") "
   ]
  },
  {
   "cell_type": "code",
   "execution_count": 2,
   "metadata": {
    "scrolled": true
   },
   "outputs": [],
   "source": [
    "def get_user_input (q):\n",
    "    # list of priorities used to ensure unique priorities\n",
    "    priorities = []\n",
    "    # keep getting data for post until user decides to quit\n",
    "    quit = False\n",
    "    while (not quit):\n",
    "        # get user input for tweet text\n",
    "        text = input(\"Enter tweet text: \")\n",
    "        # create universal object with inputed text\n",
    "        post = Universal(text)\n",
    "        # boolean for if input is valid\n",
    "        valid = False\n",
    "        # loop while input in invalid\n",
    "        while not valid:\n",
    "            priority = input(\"Enter priority for tweet: \")\n",
    "            # check if priority is integer\n",
    "            try:\n",
    "                priority = int(priority)\n",
    "                # make sure entered priority not in list\n",
    "                if priority not in priorities:\n",
    "                    valid = True\n",
    "                    priorities.append(priority)\n",
    "                else:\n",
    "                    print(\"A different tweet has that priority. Enter a different priority.\")\n",
    "            except:\n",
    "                print(\"Error: priority must be an integer\")\n",
    "        # set valid back to false for input of user\n",
    "        valid = False\n",
    "        while not valid:\n",
    "            # get user input for which Twitter account to post to\n",
    "            user = input(\"Enter a user (0 or 1): \")\n",
    "            # check if input is 0 or 1\n",
    "            try:\n",
    "                user = int(user)\n",
    "                if user == 0 or user == 1:\n",
    "                    valid = True\n",
    "                else:\n",
    "                    print(\"Enter 0 or 1\")\n",
    "            except:\n",
    "                print(\"Enter an integer (0 or 1)\")\n",
    "        # put data into priority queue\n",
    "        q.put((priority, post, user))\n",
    "        # check if user want to quit\n",
    "        done = input(\"Would you like to post another tweet? (y or n): \")\n",
    "        if (done == 'n'):\n",
    "            quit = True"
   ]
  }
 ],
 "metadata": {
  "kernelspec": {
   "display_name": "Python 3",
   "language": "python",
   "name": "python3"
  },
  "language_info": {
   "codemirror_mode": {
    "name": "ipython",
    "version": 3
   },
   "file_extension": ".py",
   "mimetype": "text/x-python",
   "name": "python",
   "nbconvert_exporter": "python",
   "pygments_lexer": "ipython3",
   "version": "3.7.4"
  }
 },
 "nbformat": 4,
 "nbformat_minor": 2
}
